{
 "cells": [
  {
   "cell_type": "markdown",
   "id": "332b2bce",
   "metadata": {},
   "source": [
    "# Import package"
   ]
  },
  {
   "cell_type": "code",
   "execution_count": 1,
   "id": "53f3cf14",
   "metadata": {},
   "outputs": [
    {
     "name": "stderr",
     "output_type": "stream",
     "text": [
      "Warning message:\n",
      "\"package 'forecast' was built under R version 3.6.3\"Registered S3 methods overwritten by 'ggplot2':\n",
      "  method         from \n",
      "  [.quosures     rlang\n",
      "  c.quosures     rlang\n",
      "  print.quosures rlang\n",
      "Registered S3 method overwritten by 'xts':\n",
      "  method     from\n",
      "  as.zoo.xts zoo \n",
      "Registered S3 method overwritten by 'quantmod':\n",
      "  method            from\n",
      "  as.zoo.data.frame zoo \n"
     ]
    }
   ],
   "source": [
    "library(forecast)"
   ]
  },
  {
   "cell_type": "markdown",
   "id": "37d2eef6",
   "metadata": {},
   "source": [
    "# Load dataset"
   ]
  },
  {
   "cell_type": "code",
   "execution_count": 2,
   "id": "ef4ccef7",
   "metadata": {},
   "outputs": [],
   "source": [
    "data <- read.csv('Data.csv')"
   ]
  },
  {
   "cell_type": "code",
   "execution_count": 3,
   "id": "55fff25f",
   "metadata": {},
   "outputs": [
    {
     "data": {
      "text/plain": [
       "      Date            Mkt.RF              SMB                HML         \n",
       " Min.   :196307   Min.   :-23.2400   Min.   :-15.3900   Min.   :-13.920  \n",
       " 1st Qu.:197803   1st Qu.: -1.9600   1st Qu.: -1.5400   1st Qu.: -1.395  \n",
       " Median :199212   Median :  0.9250   Median :  0.1050   Median :  0.230  \n",
       " Mean   :199248   Mean   :  0.5648   Mean   :  0.2214   Mean   :  0.300  \n",
       " 3rd Qu.:200708   3rd Qu.:  3.4000   3rd Qu.:  2.0650   3rd Qu.:  1.700  \n",
       " Max.   :202204   Max.   : 16.1000   Max.   : 18.3800   Max.   : 12.740  \n",
       "      RMW                CMA                RF             NoDur        \n",
       " Min.   :-18.7600   Min.   :-6.7800   Min.   :0.0000   Min.   :-21.020  \n",
       " 1st Qu.: -0.8175   1st Qu.:-1.0000   1st Qu.:0.1400   1st Qu.: -1.242  \n",
       " Median :  0.2400   Median : 0.1100   Median :0.3800   Median :  1.080  \n",
       " Mean   :  0.2752   Mean   : 0.2947   Mean   :0.3641   Mean   :  1.049  \n",
       " 3rd Qu.:  1.2775   3rd Qu.: 1.4900   3rd Qu.:0.5100   3rd Qu.:  3.720  \n",
       " Max.   : 13.3800   Max.   : 9.0600   Max.   :1.3500   Max.   : 18.850  \n",
       "     Durbl             Manuf              Enrgy             HiTec        \n",
       " Min.   :-32.930   Min.   :-27.3500   Min.   :-34.490   Min.   :-25.920  \n",
       " 1st Qu.: -2.857   1st Qu.: -1.7400   1st Qu.: -2.317   1st Qu.: -2.675  \n",
       " Median :  0.820   Median :  1.2750   Median :  0.915   Median :  1.190  \n",
       " Mean   :  1.004   Mean   :  0.9742   Mean   :  1.023   Mean   :  1.066  \n",
       " 3rd Qu.:  4.463   3rd Qu.:  4.0200   3rd Qu.:  4.393   3rd Qu.:  4.890  \n",
       " Max.   : 45.270   Max.   : 17.3300   Max.   : 32.380   Max.   : 20.760  \n",
       "     Telcm              Shops              Hlth             Utils         \n",
       " Min.   :-16.2200   Min.   :-28.060   Min.   :-20.450   Min.   :-13.0100  \n",
       " 1st Qu.: -1.8600   1st Qu.: -1.950   1st Qu.: -1.808   1st Qu.: -1.4200  \n",
       " Median :  1.0150   Median :  1.035   Median :  1.125   Median :  0.9150  \n",
       " Mean   :  0.8295   Mean   :  1.055   Mean   :  1.069   Mean   :  0.8424  \n",
       " 3rd Qu.:  3.5775   3rd Qu.:  4.192   3rd Qu.:  3.947   3rd Qu.:  3.2775  \n",
       " Max.   : 21.3400   Max.   : 25.980   Max.   : 29.520   Max.   : 18.8400  \n",
       "     Other         \n",
       " Min.   :-23.6000  \n",
       " 1st Qu.: -2.0400  \n",
       " Median :  1.3650  \n",
       " Mean   :  0.9452  \n",
       " 3rd Qu.:  4.1250  \n",
       " Max.   : 20.2400  "
      ]
     },
     "metadata": {},
     "output_type": "display_data"
    }
   ],
   "source": [
    "summary(data)"
   ]
  },
  {
   "cell_type": "markdown",
   "id": "0bdf378c",
   "metadata": {},
   "source": [
    "# Train & Predict"
   ]
  },
  {
   "cell_type": "markdown",
   "id": "59673374",
   "metadata": {},
   "source": [
    "#### Lấy dữ liệu"
   ]
  },
  {
   "cell_type": "code",
   "execution_count": 4,
   "id": "97f77574",
   "metadata": {},
   "outputs": [],
   "source": [
    "series <- ts(data = data$Durbl, start = c(1963,7), end = c(2022,4), frequency = 12)\n",
    "X <- ts(data = data[,2:7], start = c(1963,7), end = c(2022,4), frequency = 12)[,-3]"
   ]
  },
  {
   "cell_type": "code",
   "execution_count": 5,
   "id": "68eb2347",
   "metadata": {},
   "outputs": [
    {
     "data": {
      "text/plain": [
       "   Min. 1st Qu.  Median    Mean 3rd Qu.    Max. \n",
       "-32.930  -2.857   0.820   1.004   4.463  45.270 "
      ]
     },
     "metadata": {},
     "output_type": "display_data"
    }
   ],
   "source": [
    "series %>% summary()"
   ]
  },
  {
   "cell_type": "code",
   "execution_count": 6,
   "id": "70b2ae97",
   "metadata": {},
   "outputs": [
    {
     "data": {
      "text/plain": [
       "     Mkt.RF              SMB                RMW                CMA         \n",
       " Min.   :-23.2400   Min.   :-15.3900   Min.   :-18.7600   Min.   :-6.7800  \n",
       " 1st Qu.: -1.9600   1st Qu.: -1.5400   1st Qu.: -0.8175   1st Qu.:-1.0000  \n",
       " Median :  0.9250   Median :  0.1050   Median :  0.2400   Median : 0.1100  \n",
       " Mean   :  0.5648   Mean   :  0.2214   Mean   :  0.2752   Mean   : 0.2947  \n",
       " 3rd Qu.:  3.4000   3rd Qu.:  2.0650   3rd Qu.:  1.2775   3rd Qu.: 1.4900  \n",
       " Max.   : 16.1000   Max.   : 18.3800   Max.   : 13.3800   Max.   : 9.0600  \n",
       "       RF        \n",
       " Min.   :0.0000  \n",
       " 1st Qu.:0.1400  \n",
       " Median :0.3800  \n",
       " Mean   :0.3641  \n",
       " 3rd Qu.:0.5100  \n",
       " Max.   :1.3500  "
      ]
     },
     "metadata": {},
     "output_type": "display_data"
    }
   ],
   "source": [
    "X %>% summary()"
   ]
  },
  {
   "cell_type": "markdown",
   "id": "869ea3ed",
   "metadata": {},
   "source": [
    "#### Khảo sát tập train từ 7/1963 - 12/1989"
   ]
  },
  {
   "cell_type": "code",
   "execution_count": 7,
   "id": "862c53cf",
   "metadata": {},
   "outputs": [],
   "source": [
    "log_scale <- function(x) {log(1+x/100)} #scaler\n",
    "log_inv <- function(x) {(exp(x)-1)*100} #inverter"
   ]
  },
  {
   "cell_type": "code",
   "execution_count": 8,
   "id": "dd9dd81d",
   "metadata": {},
   "outputs": [],
   "source": [
    "series_train <- series %>% window(end=c(1989,12)) %>% log_scale()\n",
    "X_train <- X %>% window(end=c(1989,12)) %>% log_scale()"
   ]
  },
  {
   "cell_type": "code",
   "execution_count": 9,
   "id": "b6c8ee56",
   "metadata": {},
   "outputs": [
    {
     "data": {
      "text/plain": [
       "     Min.   1st Qu.    Median      Mean   3rd Qu.      Max. \n",
       "-0.313889 -0.026524  0.005037  0.007380  0.042173  0.193179 "
      ]
     },
     "metadata": {},
     "output_type": "display_data"
    }
   ],
   "source": [
    "series_train %>% summary()"
   ]
  },
  {
   "cell_type": "code",
   "execution_count": 10,
   "id": "5867bba5",
   "metadata": {},
   "outputs": [
    {
     "data": {
      "image/png": "[encoded data removed]",
      "text/plain": [
       "plot without title"
      ]
     },
     "metadata": {},
     "output_type": "display_data"
    }
   ],
   "source": [
    "series_train %>% ggtsdisplay()"
   ]
  },
  {
   "cell_type": "markdown",
   "id": "136e89cc",
   "metadata": {},
   "source": [
    "#### Chọn tham số cho mô hình Dynamic"
   ]
  },
  {
   "cell_type": "code",
   "execution_count": 11,
   "id": "99bbffc8",
   "metadata": {},
   "outputs": [
    {
     "data": {
      "text/plain": [
       "Series: series_train \n",
       "Regression with ARIMA(0,0,0) errors \n",
       "\n",
       "Coefficients:\n",
       "      Mkt.RF     SMB     RMW     CMA      RF\n",
       "      1.0846  0.1325  0.3269  0.4426  0.3492\n",
       "s.e.  0.0368  0.0545  0.1209  0.1054  0.2640\n",
       "\n",
       "sigma^2 estimated as 0.0006969:  log likelihood=707.06\n",
       "AIC=-1402.12   AICc=-1401.85   BIC=-1379.54"
      ]
     },
     "metadata": {},
     "output_type": "display_data"
    }
   ],
   "source": [
    "auto.arima(y = series_train, xreg = X_train, stepwise = FALSE, approximation = FALSE)"
   ]
  },
  {
   "cell_type": "code",
   "execution_count": 12,
   "id": "143512c6",
   "metadata": {},
   "outputs": [],
   "source": [
    "fit <- Arima(y = series_train, xreg = X_train, order = c(0,0,0))"
   ]
  },
  {
   "cell_type": "code",
   "execution_count": 13,
   "id": "7538add5",
   "metadata": {},
   "outputs": [],
   "source": [
    "fitted <- ts(data = fit$fitted, start = c(1963,7), end = c(1989,12), frequency = 12) %>% log_inv\n",
    "true <- ts(data = fit$x, start = c(1963,7), end = c(1989,12), frequency = 12) %>% log_inv"
   ]
  },
  {
   "cell_type": "code",
   "execution_count": 14,
   "id": "2cfb3f55",
   "metadata": {},
   "outputs": [
    {
     "data": {
      "image/png": "[encoded data removed]",
      "text/plain": [
       "plot without title"
      ]
     },
     "metadata": {},
     "output_type": "display_data"
    }
   ],
   "source": [
    "autoplot(true)+autolayer(fitted)"
   ]
  },
  {
   "cell_type": "code",
   "execution_count": 15,
   "id": "6eb4e4cc",
   "metadata": {},
   "outputs": [
    {
     "data": {
      "text/html": [
       "2.66690426321828"
      ],
      "text/latex": [
       "2.66690426321828"
      ],
      "text/markdown": [
       "2.66690426321828"
      ],
      "text/plain": [
       "[1] 2.666904"
      ]
     },
     "metadata": {},
     "output_type": "display_data"
    }
   ],
   "source": [
    "(true - fitted)^2 %>% mean %>% sqrt"
   ]
  },
  {
   "cell_type": "markdown",
   "id": "85947840",
   "metadata": {},
   "source": [
    "#### Chạy thử một số bộ ARIMA trên tập train"
   ]
  },
  {
   "cell_type": "code",
   "execution_count": 16,
   "id": "45eaf8a3",
   "metadata": {},
   "outputs": [],
   "source": [
    "order <- list(ARIMA000 = c(0,0,0), ARIMA001 = c(0,0,1), ARIMA002 = c(0,0,2), ARIMA003 = c(0,0,3),\n",
    "              ARIMA100 = c(1,0,0), ARIMA101 = c(1,0,1), ARIMA102 = c(1,0,2), ARIMA103 = c(1,0,3),\n",
    "              ARIMA200 = c(2,0,0), ARIMA201 = c(2,0,1), ARIMA202 = c(2,0,2), ARIMA203 = c(2,0,3))"
   ]
  },
  {
   "cell_type": "code",
   "execution_count": 17,
   "id": "4a6da1d8",
   "metadata": {},
   "outputs": [
    {
     "data": {
      "text/html": [
       "<table>\n",
       "<thead><tr><th></th><th scope=col>AIC</th><th scope=col>AICc</th><th scope=col>BIC</th><th scope=col>RMSE</th></tr></thead>\n",
       "<tbody>\n",
       "\t<tr><th scope=row>ARIMA000</th><td>-1400.155</td><td>-1399.793</td><td>-1373.820</td><td>2.666904 </td></tr>\n",
       "\t<tr><th scope=row>ARIMA001</th><td>-1398.225</td><td>-1397.759</td><td>-1368.129</td><td>2.666466 </td></tr>\n",
       "\t<tr><th scope=row>ARIMA002</th><td>-1396.262</td><td>-1395.678</td><td>-1362.404</td><td>2.666396 </td></tr>\n",
       "\t<tr><th scope=row>ARIMA003</th><td>-1394.282</td><td>-1393.565</td><td>-1356.661</td><td>2.666414 </td></tr>\n",
       "\t<tr><th scope=row>ARIMA100</th><td>-1398.224</td><td>-1397.758</td><td>-1368.127</td><td>2.666473 </td></tr>\n",
       "\t<tr><th scope=row>ARIMA101</th><td>-1396.460</td><td>-1395.876</td><td>-1362.602</td><td>2.665831 </td></tr>\n",
       "\t<tr><th scope=row>ARIMA102</th><td>-1394.482</td><td>-1393.766</td><td>-1356.862</td><td>2.665865 </td></tr>\n",
       "\t<tr><th scope=row>ARIMA103</th><td>-1392.555</td><td>-1391.692</td><td>-1351.173</td><td>2.665674 </td></tr>\n",
       "\t<tr><th scope=row>ARIMA200</th><td>-1396.257</td><td>-1395.672</td><td>-1362.398</td><td>2.666403 </td></tr>\n",
       "\t<tr><th scope=row>ARIMA201</th><td>-1394.483</td><td>-1393.767</td><td>-1356.863</td><td>2.665874 </td></tr>\n",
       "\t<tr><th scope=row>ARIMA202</th><td>-1399.486</td><td>-1398.624</td><td>-1358.104</td><td>2.625385 </td></tr>\n",
       "\t<tr><th scope=row>ARIMA203</th><td>-1395.702</td><td>-1394.679</td><td>-1350.557</td><td>2.640545 </td></tr>\n",
       "</tbody>\n",
       "</table>\n"
      ],
      "text/latex": [
       "\\begin{tabular}{r|llll}\n",
       "  & AIC & AICc & BIC & RMSE\\\\\n",
       "\\hline\n",
       "\tARIMA000 & -1400.155 & -1399.793 & -1373.820 & 2.666904 \\\\\n",
       "\tARIMA001 & -1398.225 & -1397.759 & -1368.129 & 2.666466 \\\\\n",
       "\tARIMA002 & -1396.262 & -1395.678 & -1362.404 & 2.666396 \\\\\n",
       "\tARIMA003 & -1394.282 & -1393.565 & -1356.661 & 2.666414 \\\\\n",
       "\tARIMA100 & -1398.224 & -1397.758 & -1368.127 & 2.666473 \\\\\n",
       "\tARIMA101 & -1396.460 & -1395.876 & -1362.602 & 2.665831 \\\\\n",
       "\tARIMA102 & -1394.482 & -1393.766 & -1356.862 & 2.665865 \\\\\n",
       "\tARIMA103 & -1392.555 & -1391.692 & -1351.173 & 2.665674 \\\\\n",
       "\tARIMA200 & -1396.257 & -1395.672 & -1362.398 & 2.666403 \\\\\n",
       "\tARIMA201 & -1394.483 & -1393.767 & -1356.863 & 2.665874 \\\\\n",
       "\tARIMA202 & -1399.486 & -1398.624 & -1358.104 & 2.625385 \\\\\n",
       "\tARIMA203 & -1395.702 & -1394.679 & -1350.557 & 2.640545 \\\\\n",
       "\\end{tabular}\n"
      ],
      "text/markdown": [
       "\n",
       "| <!--/--> | AIC | AICc | BIC | RMSE |\n",
       "|---|---|---|---|---|\n",
       "| ARIMA000 | -1400.155 | -1399.793 | -1373.820 | 2.666904  |\n",
       "| ARIMA001 | -1398.225 | -1397.759 | -1368.129 | 2.666466  |\n",
       "| ARIMA002 | -1396.262 | -1395.678 | -1362.404 | 2.666396  |\n",
       "| ARIMA003 | -1394.282 | -1393.565 | -1356.661 | 2.666414  |\n",
       "| ARIMA100 | -1398.224 | -1397.758 | -1368.127 | 2.666473  |\n",
       "| ARIMA101 | -1396.460 | -1395.876 | -1362.602 | 2.665831  |\n",
       "| ARIMA102 | -1394.482 | -1393.766 | -1356.862 | 2.665865  |\n",
       "| ARIMA103 | -1392.555 | -1391.692 | -1351.173 | 2.665674  |\n",
       "| ARIMA200 | -1396.257 | -1395.672 | -1362.398 | 2.666403  |\n",
       "| ARIMA201 | -1394.483 | -1393.767 | -1356.863 | 2.665874  |\n",
       "| ARIMA202 | -1399.486 | -1398.624 | -1358.104 | 2.625385  |\n",
       "| ARIMA203 | -1395.702 | -1394.679 | -1350.557 | 2.640545  |\n",
       "\n"
      ],
      "text/plain": [
       "         AIC       AICc      BIC       RMSE    \n",
       "ARIMA000 -1400.155 -1399.793 -1373.820 2.666904\n",
       "ARIMA001 -1398.225 -1397.759 -1368.129 2.666466\n",
       "ARIMA002 -1396.262 -1395.678 -1362.404 2.666396\n",
       "ARIMA003 -1394.282 -1393.565 -1356.661 2.666414\n",
       "ARIMA100 -1398.224 -1397.758 -1368.127 2.666473\n",
       "ARIMA101 -1396.460 -1395.876 -1362.602 2.665831\n",
       "ARIMA102 -1394.482 -1393.766 -1356.862 2.665865\n",
       "ARIMA103 -1392.555 -1391.692 -1351.173 2.665674\n",
       "ARIMA200 -1396.257 -1395.672 -1362.398 2.666403\n",
       "ARIMA201 -1394.483 -1393.767 -1356.863 2.665874\n",
       "ARIMA202 -1399.486 -1398.624 -1358.104 2.625385\n",
       "ARIMA203 -1395.702 -1394.679 -1350.557 2.640545"
      ]
     },
     "metadata": {},
     "output_type": "display_data"
    }
   ],
   "source": [
    "result <- NULL\n",
    "for (o in order)\n",
    "{\n",
    "    fit <- Arima(y = series_train, xreg = X_train, order = o)\n",
    "    fitted <- ts(data = fit$fitted, start = c(1963,7), end = c(1989,12), frequency = 12) %>% log_inv\n",
    "    rmse <- sqrt(mean((log_inv(series_train) - fitted)^2))\n",
    "    result <- rbind(result, c(AIC = fit$aic, AICc = fit$aicc, BIC = fit$bic, RMSE = rmse))\n",
    "}\n",
    "row.names(result) <- names(order)\n",
    "result"
   ]
  },
  {
   "cell_type": "markdown",
   "id": "fb9d2cc3",
   "metadata": {},
   "source": [
    "#### Predict & đánh giá RMSE"
   ]
  },
  {
   "cell_type": "code",
   "execution_count": 18,
   "id": "54346a12",
   "metadata": {
    "scrolled": true
   },
   "outputs": [],
   "source": [
    "pred <- NULL\n",
    "for (i in 0:387)\n",
    "{\n",
    "    train <- series %>% subset(end=length(series)-388+i) %>% log_scale()\n",
    "    reg <- X %>% subset(end=length(series)-388+i) %>% log_scale()\n",
    "    fit <- Arima(y = train, xreg = reg, order = c(2,0,2))\n",
    "    newreg <- X %>% subset(start=length(series)-387+i, end=length(series)-387+i) %>% log_scale()\n",
    "    pred_val <- forecast(fit, h = 1, xreg = newreg)$mean %>% log_inv()\n",
    "    pred <- c(pred, pred_val)\n",
    "}\n",
    "pred <- ts(pred, start=c(1990,1), frequency = 12)\n",
    "true <- series %>% window(start=c(1990,1))\n",
    "rmse <- sqrt(mean((true-pred)^2))"
   ]
  },
  {
   "cell_type": "code",
   "execution_count": 19,
   "id": "69bae7ce",
   "metadata": {},
   "outputs": [
    {
     "data": {
      "text/html": [
       "4.99647368163364"
      ],
      "text/latex": [
       "4.99647368163364"
      ],
      "text/markdown": [
       "4.99647368163364"
      ],
      "text/plain": [
       "[1] 4.996474"
      ]
     },
     "metadata": {},
     "output_type": "display_data"
    }
   ],
   "source": [
    "rmse"
   ]
  },
  {
   "cell_type": "code",
   "execution_count": 20,
   "id": "8b39d114",
   "metadata": {},
   "outputs": [
    {
     "data": {
      "image/png": "[encoded data removed]",
      "text/plain": [
       "plot without title"
      ]
     },
     "metadata": {},
     "output_type": "display_data"
    }
   ],
   "source": [
    "true_val <- true %>% window(start = c(2015,1))\n",
    "pred_val <- pred %>% window(start = c(2015,1))\n",
    "autoplot(true_val) + autolayer(pred_val)"
   ]
  }
 ],
 "metadata": {
  "kernelspec": {
   "display_name": "Python 3 (ipykernel)",
   "language": "python",
   "name": "python3"
  },
  "language_info": {
   "codemirror_mode": {
    "name": "ipython",
    "version": 3
   },
   "file_extension": ".py",
   "mimetype": "text/x-python",
   "name": "python",
   "nbconvert_exporter": "python",
   "pygments_lexer": "ipython3",
   "version": "3.9.18"
  }
 },
 "nbformat": 4,
 "nbformat_minor": 5
}
