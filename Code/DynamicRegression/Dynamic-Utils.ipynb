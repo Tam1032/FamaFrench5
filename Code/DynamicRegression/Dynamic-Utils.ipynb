{
 "cells": [
  {
   "cell_type": "markdown",
   "id": "332b2bce",
   "metadata": {},
   "source": [
    "# Import package"
   ]
  },
  {
   "cell_type": "code",
   "execution_count": 1,
   "id": "53f3cf14",
   "metadata": {},
   "outputs": [
    {
     "name": "stderr",
     "output_type": "stream",
     "text": [
      "Warning message:\n",
      "\"package 'forecast' was built under R version 3.6.3\"Registered S3 methods overwritten by 'ggplot2':\n",
      "  method         from \n",
      "  [.quosures     rlang\n",
      "  c.quosures     rlang\n",
      "  print.quosures rlang\n",
      "Registered S3 method overwritten by 'xts':\n",
      "  method     from\n",
      "  as.zoo.xts zoo \n",
      "Registered S3 method overwritten by 'quantmod':\n",
      "  method            from\n",
      "  as.zoo.data.frame zoo \n"
     ]
    }
   ],
   "source": [
    "library(forecast)"
   ]
  },
  {
   "cell_type": "markdown",
   "id": "37d2eef6",
   "metadata": {},
   "source": [
    "# Load dataset"
   ]
  },
  {
   "cell_type": "code",
   "execution_count": 2,
   "id": "ef4ccef7",
   "metadata": {},
   "outputs": [],
   "source": [
    "data <- read.csv('Data.csv')"
   ]
  },
  {
   "cell_type": "code",
   "execution_count": 3,
   "id": "55fff25f",
   "metadata": {},
   "outputs": [
    {
     "data": {
      "text/plain": [
       "      Date            Mkt.RF              SMB                HML         \n",
       " Min.   :196307   Min.   :-23.2400   Min.   :-15.3900   Min.   :-13.920  \n",
       " 1st Qu.:197803   1st Qu.: -1.9600   1st Qu.: -1.5400   1st Qu.: -1.395  \n",
       " Median :199212   Median :  0.9250   Median :  0.1050   Median :  0.230  \n",
       " Mean   :199248   Mean   :  0.5648   Mean   :  0.2214   Mean   :  0.300  \n",
       " 3rd Qu.:200708   3rd Qu.:  3.4000   3rd Qu.:  2.0650   3rd Qu.:  1.700  \n",
       " Max.   :202204   Max.   : 16.1000   Max.   : 18.3800   Max.   : 12.740  \n",
       "      RMW                CMA                RF             NoDur        \n",
       " Min.   :-18.7600   Min.   :-6.7800   Min.   :0.0000   Min.   :-21.020  \n",
       " 1st Qu.: -0.8175   1st Qu.:-1.0000   1st Qu.:0.1400   1st Qu.: -1.242  \n",
       " Median :  0.2400   Median : 0.1100   Median :0.3800   Median :  1.080  \n",
       " Mean   :  0.2752   Mean   : 0.2947   Mean   :0.3641   Mean   :  1.049  \n",
       " 3rd Qu.:  1.2775   3rd Qu.: 1.4900   3rd Qu.:0.5100   3rd Qu.:  3.720  \n",
       " Max.   : 13.3800   Max.   : 9.0600   Max.   :1.3500   Max.   : 18.850  \n",
       "     Durbl             Manuf              Enrgy             HiTec        \n",
       " Min.   :-32.930   Min.   :-27.3500   Min.   :-34.490   Min.   :-25.920  \n",
       " 1st Qu.: -2.857   1st Qu.: -1.7400   1st Qu.: -2.317   1st Qu.: -2.675  \n",
       " Median :  0.820   Median :  1.2750   Median :  0.915   Median :  1.190  \n",
       " Mean   :  1.004   Mean   :  0.9742   Mean   :  1.023   Mean   :  1.066  \n",
       " 3rd Qu.:  4.463   3rd Qu.:  4.0200   3rd Qu.:  4.393   3rd Qu.:  4.890  \n",
       " Max.   : 45.270   Max.   : 17.3300   Max.   : 32.380   Max.   : 20.760  \n",
       "     Telcm              Shops              Hlth             Utils         \n",
       " Min.   :-16.2200   Min.   :-28.060   Min.   :-20.450   Min.   :-13.0100  \n",
       " 1st Qu.: -1.8600   1st Qu.: -1.950   1st Qu.: -1.808   1st Qu.: -1.4200  \n",
       " Median :  1.0150   Median :  1.035   Median :  1.125   Median :  0.9150  \n",
       " Mean   :  0.8295   Mean   :  1.055   Mean   :  1.069   Mean   :  0.8424  \n",
       " 3rd Qu.:  3.5775   3rd Qu.:  4.192   3rd Qu.:  3.947   3rd Qu.:  3.2775  \n",
       " Max.   : 21.3400   Max.   : 25.980   Max.   : 29.520   Max.   : 18.8400  \n",
       "     Other         \n",
       " Min.   :-23.6000  \n",
       " 1st Qu.: -2.0400  \n",
       " Median :  1.3650  \n",
       " Mean   :  0.9452  \n",
       " 3rd Qu.:  4.1250  \n",
       " Max.   : 20.2400  "
      ]
     },
     "metadata": {},
     "output_type": "display_data"
    }
   ],
   "source": [
    "summary(data)"
   ]
  },
  {
   "cell_type": "markdown",
   "id": "0bdf378c",
   "metadata": {},
   "source": [
    "# Train & Predict"
   ]
  },
  {
   "cell_type": "markdown",
   "id": "59673374",
   "metadata": {},
   "source": [
    "#### Lấy dữ liệu"
   ]
  },
  {
   "cell_type": "code",
   "execution_count": 21,
   "id": "97f77574",
   "metadata": {},
   "outputs": [],
   "source": [
    "series <- ts(data = data$Utils, start = c(1963,7), end = c(2022,4), frequency = 12)\n",
    "X <- ts(data = data[,2:7], start = c(1963,7), end = c(2022,4), frequency = 12)[,-3]"
   ]
  },
  {
   "cell_type": "code",
   "execution_count": 22,
   "id": "68eb2347",
   "metadata": {},
   "outputs": [
    {
     "data": {
      "text/plain": [
       "    Min.  1st Qu.   Median     Mean  3rd Qu.     Max. \n",
       "-13.0100  -1.4200   0.9150   0.8424   3.2775  18.8400 "
      ]
     },
     "metadata": {},
     "output_type": "display_data"
    }
   ],
   "source": [
    "series %>% summary()"
   ]
  },
  {
   "cell_type": "code",
   "execution_count": 23,
   "id": "70b2ae97",
   "metadata": {},
   "outputs": [
    {
     "data": {
      "text/plain": [
       "     Mkt.RF              SMB                RMW                CMA         \n",
       " Min.   :-23.2400   Min.   :-15.3900   Min.   :-18.7600   Min.   :-6.7800  \n",
       " 1st Qu.: -1.9600   1st Qu.: -1.5400   1st Qu.: -0.8175   1st Qu.:-1.0000  \n",
       " Median :  0.9250   Median :  0.1050   Median :  0.2400   Median : 0.1100  \n",
       " Mean   :  0.5648   Mean   :  0.2214   Mean   :  0.2752   Mean   : 0.2947  \n",
       " 3rd Qu.:  3.4000   3rd Qu.:  2.0650   3rd Qu.:  1.2775   3rd Qu.: 1.4900  \n",
       " Max.   : 16.1000   Max.   : 18.3800   Max.   : 13.3800   Max.   : 9.0600  \n",
       "       RF        \n",
       " Min.   :0.0000  \n",
       " 1st Qu.:0.1400  \n",
       " Median :0.3800  \n",
       " Mean   :0.3641  \n",
       " 3rd Qu.:0.5100  \n",
       " Max.   :1.3500  "
      ]
     },
     "metadata": {},
     "output_type": "display_data"
    }
   ],
   "source": [
    "X %>% summary()"
   ]
  },
  {
   "cell_type": "markdown",
   "id": "869ea3ed",
   "metadata": {},
   "source": [
    "#### Khảo sát tập train từ 7/1963 - 12/1989"
   ]
  },
  {
   "cell_type": "code",
   "execution_count": 24,
   "id": "862c53cf",
   "metadata": {},
   "outputs": [],
   "source": [
    "log_scale <- function(x) {log(1+x/100)} #scaler\n",
    "log_inv <- function(x) {(exp(x)-1)*100} #inverter"
   ]
  },
  {
   "cell_type": "code",
   "execution_count": 25,
   "id": "dd9dd81d",
   "metadata": {},
   "outputs": [],
   "source": [
    "series_train <- series %>% window(end=c(1989,12)) %>% log_scale()\n",
    "X_train <- X %>% window(end=c(1989,12)) %>% log_scale()"
   ]
  },
  {
   "cell_type": "code",
   "execution_count": 26,
   "id": "b6c8ee56",
   "metadata": {},
   "outputs": [
    {
     "data": {
      "text/plain": [
       "     Min.   1st Qu.    Median      Mean   3rd Qu.      Max. \n",
       "-0.129995 -0.015799  0.004938  0.007690  0.031184  0.172608 "
      ]
     },
     "metadata": {},
     "output_type": "display_data"
    }
   ],
   "source": [
    "series_train %>% summary()"
   ]
  },
  {
   "cell_type": "code",
   "execution_count": 27,
   "id": "5867bba5",
   "metadata": {
    "scrolled": false
   },
   "outputs": [
    {
     "data": {
      "image/png": "[encoded data removed]",
      "text/plain": [
       "plot without title"
      ]
     },
     "metadata": {},
     "output_type": "display_data"
    }
   ],
   "source": [
    "series_train %>% ggtsdisplay()"
   ]
  },
  {
   "cell_type": "markdown",
   "id": "136e89cc",
   "metadata": {},
   "source": [
    "#### Chọn tham số cho mô hình Dynamic"
   ]
  },
  {
   "cell_type": "code",
   "execution_count": 28,
   "id": "99bbffc8",
   "metadata": {},
   "outputs": [
    {
     "data": {
      "text/plain": [
       "Series: series_train \n",
       "Regression with ARIMA(2,0,2) errors \n",
       "\n",
       "Coefficients:\n",
       "         ar1      ar2      ma1     ma2  Mkt.RF      SMB      RMW     CMA\n",
       "      0.6958  -0.9110  -0.6468  0.8284  0.6998  -0.2692  -0.4871  0.0333\n",
       "s.e.  0.0617   0.0812   0.0861  0.1144  0.0357   0.0530   0.1164  0.1032\n",
       "          RF\n",
       "      1.3948\n",
       "s.e.  0.2494\n",
       "\n",
       "sigma^2 estimated as 0.0006579:  log likelihood=718.12\n",
       "AIC=-1416.23   AICc=-1415.52   BIC=-1378.61"
      ]
     },
     "metadata": {},
     "output_type": "display_data"
    }
   ],
   "source": [
    "auto.arima(y = series_train, xreg = X_train, stepwise = FALSE, approximation = FALSE)"
   ]
  },
  {
   "cell_type": "code",
   "execution_count": 29,
   "id": "143512c6",
   "metadata": {},
   "outputs": [],
   "source": [
    "fit <- Arima(y = series_train, xreg = X_train, order = c(2,0,2))"
   ]
  },
  {
   "cell_type": "code",
   "execution_count": 30,
   "id": "7538add5",
   "metadata": {},
   "outputs": [],
   "source": [
    "fitted <- ts(data = fit$fitted, start = c(1963,7), end = c(1989,12), frequency = 12) %>% log_inv\n",
    "true <- ts(data = fit$x, start = c(1963,7), end = c(1989,12), frequency = 12) %>% log_inv"
   ]
  },
  {
   "cell_type": "code",
   "execution_count": 31,
   "id": "2cfb3f55",
   "metadata": {},
   "outputs": [
    {
     "data": {
      "image/png": "[encoded data removed]",
      "text/plain": [
       "plot without title"
      ]
     },
     "metadata": {},
     "output_type": "display_data"
    }
   ],
   "source": [
    "autoplot(true)+autolayer(fitted)"
   ]
  },
  {
   "cell_type": "code",
   "execution_count": 32,
   "id": "6eb4e4cc",
   "metadata": {},
   "outputs": [
    {
     "data": {
      "text/html": [
       "2.54163069516502"
      ],
      "text/latex": [
       "2.54163069516502"
      ],
      "text/markdown": [
       "2.54163069516502"
      ],
      "text/plain": [
       "[1] 2.541631"
      ]
     },
     "metadata": {},
     "output_type": "display_data"
    }
   ],
   "source": [
    "(true - fitted)^2 %>% mean %>% sqrt"
   ]
  },
  {
   "cell_type": "markdown",
   "id": "85947840",
   "metadata": {},
   "source": [
    "#### Chạy thử một số bộ ARIMA trên tập train"
   ]
  },
  {
   "cell_type": "code",
   "execution_count": 33,
   "id": "45eaf8a3",
   "metadata": {},
   "outputs": [],
   "source": [
    "order <- list(ARIMA000 = c(0,0,0), ARIMA001 = c(0,0,1), ARIMA002 = c(0,0,2), ARIMA003 = c(0,0,3),\n",
    "              ARIMA100 = c(1,0,0), ARIMA101 = c(1,0,1), ARIMA102 = c(1,0,2), ARIMA103 = c(1,0,3),\n",
    "              ARIMA200 = c(2,0,0), ARIMA201 = c(2,0,1), ARIMA202 = c(2,0,2), ARIMA203 = c(2,0,3))"
   ]
  },
  {
   "cell_type": "code",
   "execution_count": 34,
   "id": "4a6da1d8",
   "metadata": {},
   "outputs": [
    {
     "data": {
      "text/html": [
       "<table>\n",
       "<thead><tr><th></th><th scope=col>AIC</th><th scope=col>AICc</th><th scope=col>BIC</th><th scope=col>RMSE</th></tr></thead>\n",
       "<tbody>\n",
       "\t<tr><th scope=row>ARIMA000</th><td>-1411.453</td><td>-1411.092</td><td>-1385.119</td><td>2.592997 </td></tr>\n",
       "\t<tr><th scope=row>ARIMA001</th><td>-1410.991</td><td>-1410.525</td><td>-1380.894</td><td>2.586706 </td></tr>\n",
       "\t<tr><th scope=row>ARIMA002</th><td>-1409.291</td><td>-1408.706</td><td>-1375.432</td><td>2.584879 </td></tr>\n",
       "\t<tr><th scope=row>ARIMA003</th><td>-1413.697</td><td>-1412.980</td><td>-1376.076</td><td>2.562389 </td></tr>\n",
       "\t<tr><th scope=row>ARIMA100</th><td>-1410.854</td><td>-1410.388</td><td>-1380.758</td><td>2.587365 </td></tr>\n",
       "\t<tr><th scope=row>ARIMA101</th><td>-1409.048</td><td>-1408.464</td><td>-1375.190</td><td>2.586339 </td></tr>\n",
       "\t<tr><th scope=row>ARIMA102</th><td>-1408.271</td><td>-1407.554</td><td>-1370.650</td><td>2.581039 </td></tr>\n",
       "\t<tr><th scope=row>ARIMA103</th><td>-1412.277</td><td>-1411.415</td><td>-1370.895</td><td>2.559998 </td></tr>\n",
       "\t<tr><th scope=row>ARIMA200</th><td>-1409.861</td><td>-1409.276</td><td>-1376.002</td><td>2.582242 </td></tr>\n",
       "\t<tr><th scope=row>ARIMA201</th><td>-1409.069</td><td>-1408.352</td><td>-1371.448</td><td>2.577740 </td></tr>\n",
       "\t<tr><th scope=row>ARIMA202</th><td>-1416.028</td><td>-1415.165</td><td>-1374.645</td><td>2.541631 </td></tr>\n",
       "\t<tr><th scope=row>ARIMA203</th><td>-1411.178</td><td>-1410.155</td><td>-1366.033</td><td>2.555726 </td></tr>\n",
       "</tbody>\n",
       "</table>\n"
      ],
      "text/latex": [
       "\\begin{tabular}{r|llll}\n",
       "  & AIC & AICc & BIC & RMSE\\\\\n",
       "\\hline\n",
       "\tARIMA000 & -1411.453 & -1411.092 & -1385.119 & 2.592997 \\\\\n",
       "\tARIMA001 & -1410.991 & -1410.525 & -1380.894 & 2.586706 \\\\\n",
       "\tARIMA002 & -1409.291 & -1408.706 & -1375.432 & 2.584879 \\\\\n",
       "\tARIMA003 & -1413.697 & -1412.980 & -1376.076 & 2.562389 \\\\\n",
       "\tARIMA100 & -1410.854 & -1410.388 & -1380.758 & 2.587365 \\\\\n",
       "\tARIMA101 & -1409.048 & -1408.464 & -1375.190 & 2.586339 \\\\\n",
       "\tARIMA102 & -1408.271 & -1407.554 & -1370.650 & 2.581039 \\\\\n",
       "\tARIMA103 & -1412.277 & -1411.415 & -1370.895 & 2.559998 \\\\\n",
       "\tARIMA200 & -1409.861 & -1409.276 & -1376.002 & 2.582242 \\\\\n",
       "\tARIMA201 & -1409.069 & -1408.352 & -1371.448 & 2.577740 \\\\\n",
       "\tARIMA202 & -1416.028 & -1415.165 & -1374.645 & 2.541631 \\\\\n",
       "\tARIMA203 & -1411.178 & -1410.155 & -1366.033 & 2.555726 \\\\\n",
       "\\end{tabular}\n"
      ],
      "text/markdown": [
       "\n",
       "| <!--/--> | AIC | AICc | BIC | RMSE |\n",
       "|---|---|---|---|---|\n",
       "| ARIMA000 | -1411.453 | -1411.092 | -1385.119 | 2.592997  |\n",
       "| ARIMA001 | -1410.991 | -1410.525 | -1380.894 | 2.586706  |\n",
       "| ARIMA002 | -1409.291 | -1408.706 | -1375.432 | 2.584879  |\n",
       "| ARIMA003 | -1413.697 | -1412.980 | -1376.076 | 2.562389  |\n",
       "| ARIMA100 | -1410.854 | -1410.388 | -1380.758 | 2.587365  |\n",
       "| ARIMA101 | -1409.048 | -1408.464 | -1375.190 | 2.586339  |\n",
       "| ARIMA102 | -1408.271 | -1407.554 | -1370.650 | 2.581039  |\n",
       "| ARIMA103 | -1412.277 | -1411.415 | -1370.895 | 2.559998  |\n",
       "| ARIMA200 | -1409.861 | -1409.276 | -1376.002 | 2.582242  |\n",
       "| ARIMA201 | -1409.069 | -1408.352 | -1371.448 | 2.577740  |\n",
       "| ARIMA202 | -1416.028 | -1415.165 | -1374.645 | 2.541631  |\n",
       "| ARIMA203 | -1411.178 | -1410.155 | -1366.033 | 2.555726  |\n",
       "\n"
      ],
      "text/plain": [
       "         AIC       AICc      BIC       RMSE    \n",
       "ARIMA000 -1411.453 -1411.092 -1385.119 2.592997\n",
       "ARIMA001 -1410.991 -1410.525 -1380.894 2.586706\n",
       "ARIMA002 -1409.291 -1408.706 -1375.432 2.584879\n",
       "ARIMA003 -1413.697 -1412.980 -1376.076 2.562389\n",
       "ARIMA100 -1410.854 -1410.388 -1380.758 2.587365\n",
       "ARIMA101 -1409.048 -1408.464 -1375.190 2.586339\n",
       "ARIMA102 -1408.271 -1407.554 -1370.650 2.581039\n",
       "ARIMA103 -1412.277 -1411.415 -1370.895 2.559998\n",
       "ARIMA200 -1409.861 -1409.276 -1376.002 2.582242\n",
       "ARIMA201 -1409.069 -1408.352 -1371.448 2.577740\n",
       "ARIMA202 -1416.028 -1415.165 -1374.645 2.541631\n",
       "ARIMA203 -1411.178 -1410.155 -1366.033 2.555726"
      ]
     },
     "metadata": {},
     "output_type": "display_data"
    }
   ],
   "source": [
    "result <- NULL\n",
    "for (o in order)\n",
    "{\n",
    "    fit <- Arima(y = series_train, xreg = X_train, order = o)\n",
    "    fitted <- ts(data = fit$fitted, start = c(1963,7), end = c(1989,12), frequency = 12) %>% log_inv\n",
    "    rmse <- sqrt(mean((log_inv(series_train) - fitted)^2))\n",
    "    result <- rbind(result, c(AIC = fit$aic, AICc = fit$aicc, BIC = fit$bic, RMSE = rmse))\n",
    "}\n",
    "row.names(result) <- names(order)\n",
    "result"
   ]
  },
  {
   "cell_type": "markdown",
   "id": "fb9d2cc3",
   "metadata": {},
   "source": [
    "#### Predict & đánh giá RMSE"
   ]
  },
  {
   "cell_type": "code",
   "execution_count": 35,
   "id": "54346a12",
   "metadata": {
    "scrolled": true
   },
   "outputs": [],
   "source": [
    "pred <- NULL\n",
    "for (i in 0:387)\n",
    "{\n",
    "    train <- series %>% subset(end=length(series)-388+i) %>% log_scale()\n",
    "    reg <- X %>% subset(end=length(series)-388+i) %>% log_scale()\n",
    "    fit <- Arima(y = train, xreg = reg, order = c(2,0,2))\n",
    "    newreg <- X %>% subset(start=length(series)-387+i, end=length(series)-387+i) %>% log_scale()\n",
    "    pred_val <- forecast(fit, h = 1, xreg = newreg)$mean %>% log_inv()\n",
    "    pred <- c(pred, pred_val)\n",
    "}\n",
    "pred <- ts(pred, start=c(1990,1), frequency = 12)\n",
    "true <- series %>% window(start=c(1990,1))\n",
    "rmse <- sqrt(mean((true-pred)^2))"
   ]
  },
  {
   "cell_type": "code",
   "execution_count": 36,
   "id": "69bae7ce",
   "metadata": {},
   "outputs": [
    {
     "data": {
      "text/html": [
       "3.50897090191117"
      ],
      "text/latex": [
       "3.50897090191117"
      ],
      "text/markdown": [
       "3.50897090191117"
      ],
      "text/plain": [
       "[1] 3.508971"
      ]
     },
     "metadata": {},
     "output_type": "display_data"
    }
   ],
   "source": [
    "rmse"
   ]
  },
  {
   "cell_type": "code",
   "execution_count": 37,
   "id": "8b39d114",
   "metadata": {},
   "outputs": [
    {
     "data": {
      "image/png": "[encoded data removed]",
      "text/plain": [
       "plot without title"
      ]
     },
     "metadata": {},
     "output_type": "display_data"
    }
   ],
   "source": [
    "true_val <- true %>% window(start = c(2015,1))\n",
    "pred_val <- pred %>% window(start = c(2015,1))\n",
    "autoplot(true_val) + autolayer(pred_val)"
   ]
  }
 ],
 "metadata": {
  "kernelspec": {
   "display_name": "R",
   "language": "R",
   "name": "ir"
  },
  "language_info": {
   "codemirror_mode": "r",
   "file_extension": ".r",
   "mimetype": "text/x-r-source",
   "name": "R",
   "pygments_lexer": "r",
   "version": "3.6.1"
  }
 },
 "nbformat": 4,
 "nbformat_minor": 5
}
