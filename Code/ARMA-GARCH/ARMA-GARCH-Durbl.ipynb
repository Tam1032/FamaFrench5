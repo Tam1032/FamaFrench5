{
 "cells": [
  {
   "cell_type": "markdown",
   "id": "332b2bce",
   "metadata": {},
   "source": [
    "# Download requirements"
   ]
  },
  {
   "cell_type": "code",
   "execution_count": null,
   "id": "600dffbe",
   "metadata": {
    "scrolled": true
   },
   "outputs": [],
   "source": [
    "install.packages('rugarch')\n",
    "install.packages('forecast')"
   ]
  },
  {
   "cell_type": "code",
   "execution_count": 1,
   "id": "53f3cf14",
   "metadata": {},
   "outputs": [
    {
     "name": "stderr",
     "output_type": "stream",
     "text": [
      "Warning message:\n",
      "\"package 'rugarch' was built under R version 3.6.3\"Loading required package: parallel\n",
      "Registered S3 method overwritten by 'xts':\n",
      "  method     from\n",
      "  as.zoo.xts zoo \n",
      "\n",
      "Attaching package: 'rugarch'\n",
      "\n",
      "The following object is masked from 'package:stats':\n",
      "\n",
      "    sigma\n",
      "\n",
      "Warning message:\n",
      "\"package 'forecast' was built under R version 3.6.3\"Registered S3 methods overwritten by 'ggplot2':\n",
      "  method         from \n",
      "  [.quosures     rlang\n",
      "  c.quosures     rlang\n",
      "  print.quosures rlang\n",
      "Registered S3 method overwritten by 'quantmod':\n",
      "  method            from\n",
      "  as.zoo.data.frame zoo \n"
     ]
    }
   ],
   "source": [
    "library(rugarch)\n",
    "library(forecast)"
   ]
  },
  {
   "cell_type": "markdown",
   "id": "37d2eef6",
   "metadata": {},
   "source": [
    "# Load dataset"
   ]
  },
  {
   "cell_type": "code",
   "execution_count": 2,
   "id": "ef4ccef7",
   "metadata": {},
   "outputs": [],
   "source": [
    "data <- read.csv('Data.csv')"
   ]
  },
  {
   "cell_type": "code",
   "execution_count": 3,
   "id": "55fff25f",
   "metadata": {},
   "outputs": [
    {
     "data": {
      "text/plain": [
       "      Date            Mkt.RF              SMB                HML         \n",
       " Min.   :196307   Min.   :-23.2400   Min.   :-15.3900   Min.   :-13.920  \n",
       " 1st Qu.:197803   1st Qu.: -1.9600   1st Qu.: -1.5400   1st Qu.: -1.395  \n",
       " Median :199212   Median :  0.9250   Median :  0.1050   Median :  0.230  \n",
       " Mean   :199248   Mean   :  0.5648   Mean   :  0.2214   Mean   :  0.300  \n",
       " 3rd Qu.:200708   3rd Qu.:  3.4000   3rd Qu.:  2.0650   3rd Qu.:  1.700  \n",
       " Max.   :202204   Max.   : 16.1000   Max.   : 18.3800   Max.   : 12.740  \n",
       "      RMW                CMA                RF             NoDur        \n",
       " Min.   :-18.7600   Min.   :-6.7800   Min.   :0.0000   Min.   :-21.020  \n",
       " 1st Qu.: -0.8175   1st Qu.:-1.0000   1st Qu.:0.1400   1st Qu.: -1.242  \n",
       " Median :  0.2400   Median : 0.1100   Median :0.3800   Median :  1.080  \n",
       " Mean   :  0.2752   Mean   : 0.2947   Mean   :0.3641   Mean   :  1.049  \n",
       " 3rd Qu.:  1.2775   3rd Qu.: 1.4900   3rd Qu.:0.5100   3rd Qu.:  3.720  \n",
       " Max.   : 13.3800   Max.   : 9.0600   Max.   :1.3500   Max.   : 18.850  \n",
       "     Durbl             Manuf              Enrgy             HiTec        \n",
       " Min.   :-32.930   Min.   :-27.3500   Min.   :-34.490   Min.   :-25.920  \n",
       " 1st Qu.: -2.857   1st Qu.: -1.7400   1st Qu.: -2.317   1st Qu.: -2.675  \n",
       " Median :  0.820   Median :  1.2750   Median :  0.915   Median :  1.190  \n",
       " Mean   :  1.004   Mean   :  0.9742   Mean   :  1.023   Mean   :  1.066  \n",
       " 3rd Qu.:  4.463   3rd Qu.:  4.0200   3rd Qu.:  4.393   3rd Qu.:  4.890  \n",
       " Max.   : 45.270   Max.   : 17.3300   Max.   : 32.380   Max.   : 20.760  \n",
       "     Telcm              Shops              Hlth             Utils         \n",
       " Min.   :-16.2200   Min.   :-28.060   Min.   :-20.450   Min.   :-13.0100  \n",
       " 1st Qu.: -1.8600   1st Qu.: -1.950   1st Qu.: -1.808   1st Qu.: -1.4200  \n",
       " Median :  1.0150   Median :  1.035   Median :  1.125   Median :  0.9150  \n",
       " Mean   :  0.8295   Mean   :  1.055   Mean   :  1.069   Mean   :  0.8424  \n",
       " 3rd Qu.:  3.5775   3rd Qu.:  4.192   3rd Qu.:  3.947   3rd Qu.:  3.2775  \n",
       " Max.   : 21.3400   Max.   : 25.980   Max.   : 29.520   Max.   : 18.8400  \n",
       "     Other         \n",
       " Min.   :-23.6000  \n",
       " 1st Qu.: -2.0400  \n",
       " Median :  1.3650  \n",
       " Mean   :  0.9452  \n",
       " 3rd Qu.:  4.1250  \n",
       " Max.   : 20.2400  "
      ]
     },
     "metadata": {},
     "output_type": "display_data"
    }
   ],
   "source": [
    "summary(data)"
   ]
  },
  {
   "cell_type": "markdown",
   "id": "0bdf378c",
   "metadata": {},
   "source": [
    "# Predict cho Durbl portfolio"
   ]
  },
  {
   "cell_type": "markdown",
   "id": "59673374",
   "metadata": {},
   "source": [
    "#### Lấy dữ liệu của Durbl porfolio"
   ]
  },
  {
   "cell_type": "code",
   "execution_count": 4,
   "id": "97f77574",
   "metadata": {},
   "outputs": [],
   "source": [
    "series <- ts(data = data$Durbl, start = c(1963,7), end = c(2022,4), frequency = 12) "
   ]
  },
  {
   "cell_type": "code",
   "execution_count": 5,
   "id": "68eb2347",
   "metadata": {},
   "outputs": [
    {
     "data": {
      "text/plain": [
       "   Min. 1st Qu.  Median    Mean 3rd Qu.    Max. \n",
       "-32.930  -2.857   0.820   1.004   4.463  45.270 "
      ]
     },
     "metadata": {},
     "output_type": "display_data"
    }
   ],
   "source": [
    "series %>% summary()"
   ]
  },
  {
   "cell_type": "markdown",
   "id": "869ea3ed",
   "metadata": {},
   "source": [
    "#### Khảo sát tập train từ 7/1963 - 12/1989"
   ]
  },
  {
   "cell_type": "code",
   "execution_count": 6,
   "id": "862c53cf",
   "metadata": {},
   "outputs": [],
   "source": [
    "log_scale <- function(x) {log(1+x/100)} #scaler\n",
    "log_inv <- function(x) {100*(exp(x)-1)} #inverter"
   ]
  },
  {
   "cell_type": "code",
   "execution_count": 7,
   "id": "dd9dd81d",
   "metadata": {},
   "outputs": [],
   "source": [
    "series_train <- series %>% window(end=c(1989,12)) %>% log_scale()"
   ]
  },
  {
   "cell_type": "code",
   "execution_count": 8,
   "id": "b6c8ee56",
   "metadata": {},
   "outputs": [
    {
     "data": {
      "text/plain": [
       "     Min.   1st Qu.    Median      Mean   3rd Qu.      Max. \n",
       "-0.313889 -0.026524  0.005037  0.007380  0.042173  0.193179 "
      ]
     },
     "metadata": {},
     "output_type": "display_data"
    }
   ],
   "source": [
    "series_train %>% summary()"
   ]
  },
  {
   "cell_type": "code",
   "execution_count": 9,
   "id": "5867bba5",
   "metadata": {},
   "outputs": [
    {
     "data": {
      "image/png": "[encoded data removed]",
      "text/plain": [
       "plot without title"
      ]
     },
     "metadata": {},
     "output_type": "display_data"
    }
   ],
   "source": [
    "series_train %>% ggtsdisplay()"
   ]
  },
  {
   "cell_type": "markdown",
   "id": "4c113a89",
   "metadata": {},
   "source": [
    "#### Chọn tham số cho mô hình ARMA-GARCH"
   ]
  },
  {
   "cell_type": "code",
   "execution_count": 11,
   "id": "143512c6",
   "metadata": {},
   "outputs": [],
   "source": [
    "garch_spec <- ugarchspec(mean.model = list(armaOrder = c(1,2), include.mean = TRUE), \n",
    "                         variance.model = list(model = \"sGARCH\", garchOrder = c(1,1)))"
   ]
  },
  {
   "cell_type": "code",
   "execution_count": 12,
   "id": "c7a4bcaf",
   "metadata": {},
   "outputs": [
    {
     "data": {
      "text/html": [
       "<dl class=dl-horizontal>\n",
       "\t<dt>mu</dt>\n",
       "\t\t<dd>0.00722862715625581</dd>\n",
       "\t<dt>ar1</dt>\n",
       "\t\t<dd>-0.959626014752044</dd>\n",
       "\t<dt>ma1</dt>\n",
       "\t\t<dd>1.09815096266238</dd>\n",
       "\t<dt>ma2</dt>\n",
       "\t\t<dd>0.105021717783779</dd>\n",
       "\t<dt>omega</dt>\n",
       "\t\t<dd>4.4972118073484e-06</dd>\n",
       "\t<dt>alpha1</dt>\n",
       "\t\t<dd>9.82000392074453e-13</dd>\n",
       "\t<dt>beta1</dt>\n",
       "\t\t<dd>0.998999952003761</dd>\n",
       "</dl>\n"
      ],
      "text/latex": [
       "\\begin{description*}\n",
       "\\item[mu] 0.00722862715625581\n",
       "\\item[ar1] -0.959626014752044\n",
       "\\item[ma1] 1.09815096266238\n",
       "\\item[ma2] 0.105021717783779\n",
       "\\item[omega] 4.4972118073484e-06\n",
       "\\item[alpha1] 9.82000392074453e-13\n",
       "\\item[beta1] 0.998999952003761\n",
       "\\end{description*}\n"
      ],
      "text/markdown": [
       "mu\n",
       ":   0.00722862715625581ar1\n",
       ":   -0.959626014752044ma1\n",
       ":   1.09815096266238ma2\n",
       ":   0.105021717783779omega\n",
       ":   4.4972118073484e-06alpha1\n",
       ":   9.82000392074453e-13beta1\n",
       ":   0.998999952003761\n",
       "\n"
      ],
      "text/plain": [
       "           mu           ar1           ma1           ma2         omega \n",
       " 7.228627e-03 -9.596260e-01  1.098151e+00  1.050217e-01  4.497212e-06 \n",
       "       alpha1         beta1 \n",
       " 9.820004e-13  9.990000e-01 "
      ]
     },
     "metadata": {},
     "output_type": "display_data"
    }
   ],
   "source": [
    "garch_fit <- ugarchfit(spec = garch_spec, data = series_train)\n",
    "coef(garch_fit)"
   ]
  },
  {
   "cell_type": "code",
   "execution_count": 13,
   "id": "fa5c4a53",
   "metadata": {},
   "outputs": [
    {
     "data": {
      "text/html": [
       "<table>\n",
       "<thead><tr><th></th><th scope=col></th></tr></thead>\n",
       "<tbody>\n",
       "\t<tr><th scope=row>Akaike</th><td>-2.944237</td></tr>\n",
       "\t<tr><th scope=row>Bayes</th><td>-2.861425</td></tr>\n",
       "\t<tr><th scope=row>Shibata</th><td>-2.945179</td></tr>\n",
       "\t<tr><th scope=row>Hannan-Quinn</th><td>-2.911161</td></tr>\n",
       "</tbody>\n",
       "</table>\n"
      ],
      "text/latex": [
       "\\begin{tabular}{r|l}\n",
       "  & \\\\\n",
       "\\hline\n",
       "\tAkaike & -2.944237\\\\\n",
       "\tBayes & -2.861425\\\\\n",
       "\tShibata & -2.945179\\\\\n",
       "\tHannan-Quinn & -2.911161\\\\\n",
       "\\end{tabular}\n"
      ],
      "text/markdown": [
       "\n",
       "| <!--/--> |  |\n",
       "|---|---|\n",
       "| Akaike | -2.944237 |\n",
       "| Bayes | -2.861425 |\n",
       "| Shibata | -2.945179 |\n",
       "| Hannan-Quinn | -2.911161 |\n",
       "\n"
      ],
      "text/plain": [
       "                      \n",
       "Akaike       -2.944237\n",
       "Bayes        -2.861425\n",
       "Shibata      -2.945179\n",
       "Hannan-Quinn -2.911161"
      ]
     },
     "metadata": {},
     "output_type": "display_data"
    }
   ],
   "source": [
    "infocriteria(garch_fit)"
   ]
  },
  {
   "cell_type": "code",
   "execution_count": 14,
   "id": "7538add5",
   "metadata": {},
   "outputs": [],
   "source": [
    "fitted <- ts(data = garch_fit@fit$fitted.values, start = c(1963,7), end = c(1989,12), frequency = 12) %>% log_inv\n",
    "true <- ts(data = garch_fit@model$modeldata$data, start = c(1963,7), end = c(1989,12), frequency = 12) %>% log_inv"
   ]
  },
  {
   "cell_type": "code",
   "execution_count": 15,
   "id": "236494d4",
   "metadata": {},
   "outputs": [
    {
     "data": {
      "text/html": [
       "5.44502268585048"
      ],
      "text/latex": [
       "5.44502268585048"
      ],
      "text/markdown": [
       "5.44502268585048"
      ],
      "text/plain": [
       "[1] 5.445023"
      ]
     },
     "metadata": {},
     "output_type": "display_data"
    }
   ],
   "source": [
    "(fitted - true)^2 %>% mean %>% sqrt"
   ]
  },
  {
   "cell_type": "code",
   "execution_count": 16,
   "id": "c108b44f",
   "metadata": {
    "scrolled": false
   },
   "outputs": [
    {
     "data": {
      "image/png": "[encoded data removed]",
      "text/plain": [
       "plot without title"
      ]
     },
     "metadata": {},
     "output_type": "display_data"
    }
   ],
   "source": [
    "autoplot(true)+autolayer(fitted)"
   ]
  },
  {
   "cell_type": "markdown",
   "id": "006dc7fe",
   "metadata": {},
   "source": [
    "#### Predict rolling window trên tập test"
   ]
  },
  {
   "cell_type": "code",
   "execution_count": 17,
   "id": "9a003518",
   "metadata": {
    "scrolled": true
   },
   "outputs": [
    {
     "name": "stderr",
     "output_type": "stream",
     "text": [
      "Warning message in arima(data, order = c(modelinc[2], 0, modelinc[3]), include.mean = modelinc[1], :\n",
      "\"possible convergence problem: optim gave code = 1\"Warning message in arima(data, order = c(modelinc[2], 0, modelinc[3]), include.mean = modelinc[1], :\n",
      "\"possible convergence problem: optim gave code = 1\"Warning message in arima(data, order = c(modelinc[2], 0, modelinc[3]), include.mean = modelinc[1], :\n",
      "\"possible convergence problem: optim gave code = 1\"Warning message in arima(data, order = c(modelinc[2], 0, modelinc[3]), include.mean = modelinc[1], :\n",
      "\"possible convergence problem: optim gave code = 1\"Warning message in arima(data, order = c(modelinc[2], 0, modelinc[3]), include.mean = modelinc[1], :\n",
      "\"possible convergence problem: optim gave code = 1\"Warning message in arima(data, order = c(modelinc[2], 0, modelinc[3]), include.mean = modelinc[1], :\n",
      "\"possible convergence problem: optim gave code = 1\"Warning message in arima(data, order = c(modelinc[2], 0, modelinc[3]), include.mean = modelinc[1], :\n",
      "\"possible convergence problem: optim gave code = 1\"Warning message in arima(data, order = c(modelinc[2], 0, modelinc[3]), include.mean = modelinc[1], :\n",
      "\"possible convergence problem: optim gave code = 1\""
     ]
    }
   ],
   "source": [
    "pred <- NULL\n",
    "for (i in 0:387)\n",
    "{\n",
    "    train <- series %>% subset(end=length(series)-388+i) %>% log_scale()\n",
    "    fit <- ugarchfit(spec = garch_spec, data = train)\n",
    "    pred_val <- ugarchforecast(fit, n.ahead = 1)@forecast$seriesFor[1] %>% log_inv()\n",
    "    pred <- c(pred, pred_val)\n",
    "}\n",
    "pred <- ts(pred, start=c(1990,1), frequency = 12)\n",
    "true <- series %>% window(start=c(1990,1))\n",
    "rmse <- sqrt(mean((true-pred)^2))"
   ]
  },
  {
   "cell_type": "code",
   "execution_count": 18,
   "id": "ee75663b",
   "metadata": {},
   "outputs": [
    {
     "data": {
      "text/html": [
       "7.83871864072424"
      ],
      "text/latex": [
       "7.83871864072424"
      ],
      "text/markdown": [
       "7.83871864072424"
      ],
      "text/plain": [
       "[1] 7.838719"
      ]
     },
     "metadata": {},
     "output_type": "display_data"
    }
   ],
   "source": [
    "rmse"
   ]
  },
  {
   "cell_type": "code",
   "execution_count": 19,
   "id": "467a5172",
   "metadata": {
    "scrolled": false
   },
   "outputs": [
    {
     "data": {
      "image/png": "[encoded data removed]",
      "text/plain": [
       "plot without title"
      ]
     },
     "metadata": {},
     "output_type": "display_data"
    }
   ],
   "source": [
    "autoplot(true) + autolayer(pred)"
   ]
  }
 ],
 "metadata": {
  "kernelspec": {
   "display_name": "R",
   "language": "R",
   "name": "ir"
  },
  "language_info": {
   "codemirror_mode": "r",
   "file_extension": ".r",
   "mimetype": "text/x-r-source",
   "name": "R",
   "pygments_lexer": "r",
   "version": "3.6.1"
  }
 },
 "nbformat": 4,
 "nbformat_minor": 5
}
